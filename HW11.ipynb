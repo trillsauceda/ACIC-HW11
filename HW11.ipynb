{
 "cells": [
  {
   "cell_type": "code",
   "execution_count": 2,
   "metadata": {
    "collapsed": true
   },
   "outputs": [],
   "source": [
    "import pandas as pd"
   ]
  },
  {
   "cell_type": "code",
   "execution_count": 3,
   "metadata": {
    "collapsed": true
   },
   "outputs": [],
   "source": [
    "url = \"http://api.inaturalist.org/v1/places/95816\""
   ]
  },
  {
   "cell_type": "code",
   "execution_count": 4,
   "metadata": {
    "collapsed": true
   },
   "outputs": [],
   "source": [
    "pd_api = pd.read_json(url)"
   ]
  },
  {
   "cell_type": "code",
   "execution_count": 5,
   "metadata": {
    "collapsed": true
   },
   "outputs": [],
   "source": [
    "results = pd_api[\"results\"][0]"
   ]
  },
  {
   "cell_type": "code",
   "execution_count": 12,
   "metadata": {
    "collapsed": false
   },
   "outputs": [
    {
     "name": "stdout",
     "output_type": "stream",
     "text": [
      "ancestor_place_ids\n",
      "[53171, 95816]\n",
      "bounding_box_geojson\n",
      "{'coordinates': [[[-111.2647247314453, 32.07675654031875], [-111.2647247314453, 32.338780420153086], [-110.70098876953125, 32.338780420153086], [-110.70098876953125, 32.07675654031875], [-111.2647247314453, 32.07675654031875]]], 'type': 'Polygon'}\n",
      "bbox_area\n",
      "0.14771228394288402\n",
      "admin_level\n",
      "None\n",
      "place_type\n",
      "1000\n",
      "name\n",
      "Tucson Metro Area\n",
      "location\n",
      "32.2243605777,-110.9679829661\n",
      "id\n",
      "95816\n",
      "display_name\n",
      "Tucson Metro Area\n",
      "slug\n",
      "tucson-metro-area\n",
      "geometry_geojson\n",
      "{'coordinates': [[[-111.08688354492188, 32.338200271527754], [-111.2647247314453, 32.287132632616384], [-111.19674682617188, 32.171544054655016], [-111.13563537597656, 32.11573019672888], [-110.99281311035155, 32.11107750005197], [-110.95436096191406, 32.07675654031875], [-110.70098876953125, 32.17212526918799], [-110.70648193359375, 32.30802741894789], [-110.94886779785156, 32.338780420153086], [-111.08688354492188, 32.338200271527754]]], 'type': 'Polygon'}\n"
     ]
    }
   ],
   "source": [
    "for k in results.keys():\n",
    "    print(k)\n",
    "    print(results[k])"
   ]
  },
  {
   "cell_type": "code",
   "execution_count": 13,
   "metadata": {
    "collapsed": true
   },
   "outputs": [],
   "source": [
    "#Makes API call to iNaturalist and prints results"
   ]
  },
  {
   "cell_type": "code",
   "execution_count": null,
   "metadata": {
    "collapsed": true
   },
   "outputs": [],
   "source": []
  }
 ],
 "metadata": {
  "kernelspec": {
   "display_name": "Python 3",
   "language": "python",
   "name": "python3"
  },
  "language_info": {
   "codemirror_mode": {
    "name": "ipython",
    "version": 3
   },
   "file_extension": ".py",
   "mimetype": "text/x-python",
   "name": "python",
   "nbconvert_exporter": "python",
   "pygments_lexer": "ipython3",
   "version": "3.6.0"
  }
 },
 "nbformat": 4,
 "nbformat_minor": 2
}
